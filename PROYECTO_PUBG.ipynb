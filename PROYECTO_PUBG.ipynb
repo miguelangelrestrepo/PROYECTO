{
  "nbformat": 4,
  "nbformat_minor": 0,
  "metadata": {
    "colab": {
      "name": "PROYECTO_PUBG.ipynb",
      "provenance": [],
      "collapsed_sections": [],
      "authorship_tag": "ABX9TyO91k5IhF5cCpKfyOA+KC5U",
      "include_colab_link": true
    },
    "kernelspec": {
      "name": "python3",
      "display_name": "Python 3"
    },
    "language_info": {
      "name": "python"
    }
  },
  "cells": [
    {
      "cell_type": "markdown",
      "metadata": {
        "id": "view-in-github",
        "colab_type": "text"
      },
      "source": [
        "<a href=\"https://colab.research.google.com/github/miguelangelrestrepo/PROYECTO_PUBG/blob/main/PROYECTO_PUBG.ipynb\" target=\"_parent\"><img src=\"https://colab.research.google.com/assets/colab-badge.svg\" alt=\"Open In Colab\"/></a>"
      ]
    },
    {
      "cell_type": "markdown",
      "source": [
        "# ***#1***\n",
        "**Lo primero que haremos en la siguiente celda de código será importar todas las librerías que vamos a utilizar, si en el transcurso del desarrollo de los códigos vemos que debemos utilizar otras librerías, las importaremos en esta celda.**\n",
        "\n",
        "\n"
      ],
      "metadata": {
        "id": "GOlq_kfPaUSD"
      }
    },
    {
      "cell_type": "code",
      "execution_count": null,
      "metadata": {
        "id": "DIQS2r_6n5iv"
      },
      "outputs": [],
      "source": [
        "# Librerías\n",
        "import matplotlib.pyplot as plt\n",
        "import seaborn as sns\n",
        "import pandas as pd\n",
        "import numpy as np\n",
        "import missingno as msno\n",
        "import os"
      ]
    },
    {
      "cell_type": "markdown",
      "source": [
        "**Los dataset (3) de nuestra competencia de Kaggle son:               \n",
        "(sample_submission-V2.csv, test_V2.csv y train_V2.csv).** "
      ],
      "metadata": {
        "id": "KhfqPGzxao5-"
      }
    },
    {
      "cell_type": "code",
      "source": [
        "# Cargar los datos"
      ],
      "metadata": {
        "id": "j_6rycH7rePS"
      },
      "execution_count": null,
      "outputs": []
    },
    {
      "cell_type": "code",
      "source": [
        ""
      ],
      "metadata": {
        "id": "5fqR_Q7bntvl"
      },
      "execution_count": null,
      "outputs": []
    }
  ]
}